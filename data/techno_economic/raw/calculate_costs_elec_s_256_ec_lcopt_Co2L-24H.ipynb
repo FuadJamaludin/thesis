{
 "cells": [
  {
   "cell_type": "code",
   "execution_count": 2,
   "id": "ddae1a4d",
   "metadata": {
    "scrolled": false
   },
   "outputs": [],
   "source": [
    "import pypsa\n",
    "import numpy as np\n",
    "import matplotlib.pyplot as plt\n",
    "import pandas as pd\n",
    "import os"
   ]
  },
  {
   "cell_type": "code",
   "execution_count": 3,
   "id": "684082ed",
   "metadata": {
    "scrolled": false
   },
   "outputs": [
    {
     "name": "stderr",
     "output_type": "stream",
     "text": [
      "WARNING:pypsa.io:\n",
      "Importing PyPSA from older version of PyPSA than current version.\n",
      "Please read the release notes at https://pypsa.readthedocs.io/en/latest/release_notes.html\n",
      "carefully to prepare your network for import.\n",
      "Currently used PyPSA version [0, 19, 3], imported network file PyPSA version [0, 18, 1].\n",
      "\n",
      "INFO:pypsa.io:Imported network elec_s_256_ec_lcopt_Co2L-24H.nc has buses, carriers, generators, global_constraints, lines, links, loads, storage_units, stores\n"
     ]
    }
   ],
   "source": [
    "network = pypsa.Network(\"C:/Users/work/pypsa/PyPSA-eur - training/elec_s_256_ec_lcopt_Co2L-24H_15.3.22/elec_s_256_ec_lcopt_Co2L-24H.nc\")"
   ]
  },
  {
   "cell_type": "markdown",
   "id": "2a09f13b",
   "metadata": {},
   "source": [
    "From pypsa-eur script https://github.com/PyPSA/pypsa-eur/blob/master/scripts/add_electricity.py"
   ]
  },
  {
   "cell_type": "markdown",
   "id": "88a8b102",
   "metadata": {},
   "source": [
    "def load_costs(tech_costs, config, elec_config, Nyears=1.):\n",
    "\n",
    "    # set all asset costs and other parameters\n",
    "    costs = pd.read_csv(\"C:/Users/work/pypsa-eur/data/costs.csv\", tech_costs, index_col=list(range(3))).sort_index()\n",
    "\n",
    "    # correct units to MW and EUR\n",
    "    costs.loc[costs.unit.str.contains(\"/kW\"),\"value\"] *= 1e3\n",
    "    costs.loc[costs.unit.str.contains(\"USD\"),\"value\"] *= config['USD2013_to_EUR2013']\n",
    "\n",
    "    costs = (costs.loc[idx[:,config['year'],:], \"value\"]\n",
    "             .unstack(level=2).groupby(\"technology\").sum(min_count=1))\n",
    "\n",
    "    costs = costs.fillna({\"CO2 intensity\" : 0,\n",
    "                          \"FOM\" : 0,\n",
    "                          \"VOM\" : 0,\n",
    "                          \"discount rate\" : config['discountrate'],\n",
    "                          \"efficiency\" : 1,\n",
    "                          \"fuel\" : 0,\n",
    "                          \"investment\" : 0,\n",
    "                          \"lifetime\" : 25})\n",
    "\n",
    "    costs[\"capital_cost\"] = ((annuity(costs[\"lifetime\"], costs[\"discount rate\"]) +\n",
    "                             costs[\"FOM\"]/100.) *\n",
    "                             costs[\"investment\"] * Nyears)"
   ]
  },
  {
   "cell_type": "code",
   "execution_count": 4,
   "id": "1a12a993",
   "metadata": {},
   "outputs": [
    {
     "data": {
      "text/plain": [
       "8760.000000000002"
      ]
     },
     "execution_count": 4,
     "metadata": {},
     "output_type": "execute_result"
    }
   ],
   "source": [
    "network.snapshot_weightings.objective.sum()"
   ]
  },
  {
   "cell_type": "markdown",
   "id": "25ab2c3c",
   "metadata": {},
   "source": [
    "#discountrate=0.04\n",
    "\n",
    "def annuity(n,r=discountrate):\n",
    "    \"\"\"Calculate the annuity factor for an asset with lifetime n years and\n",
    "    discount rate of r, e.g. annuity(20,0.05)*20 = 1.6\"\"\"\n",
    "\n",
    "    if isinstance(r, pd.Series):\n",
    "        return pd.Series(1/n, index=r.index).where(r == 0, r/(1. - 1./(1.+r)**n))\n",
    "    elif r > 0:\n",
    "        return r/(1. - 1./(1.+r)**n)\n",
    "    else:\n",
    "        return 1/n"
   ]
  },
  {
   "cell_type": "markdown",
   "id": "f8767c40",
   "metadata": {},
   "source": [
    "Calculate Nyears = n.snapshot_weightings.objective.sum() / 8760."
   ]
  },
  {
   "cell_type": "code",
   "execution_count": null,
   "id": "5fe86aa0",
   "metadata": {},
   "outputs": [],
   "source": [
    "network.snapshot_weightings.objective.sum() / 8760"
   ]
  },
  {
   "cell_type": "markdown",
   "id": "ec5c95ac",
   "metadata": {},
   "source": [
    "Calculate capital costs"
   ]
  },
  {
   "cell_type": "code",
   "execution_count": 36,
   "id": "21f7fc19",
   "metadata": {},
   "outputs": [
    {
     "data": {
      "text/plain": [
       "11315.970395000008"
      ]
     },
     "execution_count": 36,
     "metadata": {},
     "output_type": "execute_result"
    }
   ],
   "source": [
    "def annuity(n,r):\n",
    "    \"\"\"Calculate the annuity factor for an asset with lifetime n years and\n",
    "    discount rate of r, e.g. annuity(20,0.05)*20 = 1.6\"\"\"\n",
    "\n",
    "    if isinstance(r, pd.Series):\n",
    "        return pd.Series(1/n, index=r.index).where(r == 0, r/(1. - 1./(1.+r)**n))\n",
    "    elif r > 0:\n",
    "        return r/(1. - 1./(1.+r)**n)\n",
    "    else:\n",
    "        return 1/n\n",
    "\n",
    "#costs[\"capital_cost\"] = ((annuity(costs[\"lifetime\"], costs[\"discount rate\"]) +\n",
    "#                             costs[\"FOM\"]/100.) *\n",
    "#                             costs[\"investment\"] * Nyears)\n",
    "\n",
    "#Nyears = n.snapshot_weightings.objective.sum() / 8760.\n",
    "\n",
    "#costs = load_costs(snakemake.input.tech_costs, snakemake.config['costs'], snakemake.config['electricity'], Nyears)\n",
    "\n",
    "#pypsa's Nyears = 1.0000000000000002\n",
    "#my thesis Nyears with 24h freq = 0.041666666666666664\n",
    "\n",
    "capital_cost = ((annuity(30, 0.07) + 2/100) * 450 * 0.25)*1e3\n",
    "\n",
    "capital_cost"
   ]
  },
  {
   "cell_type": "markdown",
   "id": "e58f230a",
   "metadata": {},
   "source": [
    "Calculate capital costs for H2 pipelines"
   ]
  },
  {
   "cell_type": "code",
   "execution_count": 35,
   "id": "338804a5",
   "metadata": {},
   "outputs": [
    {
     "data": {
      "text/plain": [
       "589.7270281308737"
      ]
     },
     "execution_count": 35,
     "metadata": {},
     "output_type": "execute_result"
    }
   ],
   "source": [
    "def annuity(n,r):\n",
    "    \"\"\"Calculate the annuity factor for an asset with lifetime n years and\n",
    "    discount rate of r, e.g. annuity(20,0.05)*20 = 1.6\"\"\"\n",
    "\n",
    "    if isinstance(r, pd.Series):\n",
    "        return pd.Series(1/n, index=r.index).where(r == 0, r/(1. - 1./(1.+r)**n))\n",
    "    elif r > 0:\n",
    "        return r/(1. - 1./(1.+r)**n)\n",
    "    else:\n",
    "        return 1/n\n",
    "\n",
    "#costs[\"capital_cost\"] = ((annuity(costs[\"lifetime\"], costs[\"discount rate\"]) +\n",
    "#                             costs[\"FOM\"]/100.) *\n",
    "#                             costs[\"investment\"] * Nyears)\n",
    "\n",
    "#Nyears = n.snapshot_weightings.objective.sum() / 8760.\n",
    "\n",
    "#costs = load_costs(snakemake.input.tech_costs, snakemake.config['costs'], snakemake.config['electricity'], Nyears)\n",
    "\n",
    "#pypsa's Nyears = 1.0000000000000002\n",
    "#my thesis Nyears with 24h freq = 0.041666666666666664\n",
    "#my thesis Nyears with 3h freq = 0.3333333333333333\n",
    "\n",
    "capital_cost = ((annuity(50, 0.07) + 3.17/100) * 226.47 * 0.25)\n",
    "\n",
    "# capital cost * pipeline length in km (if pipeline length is available)\n",
    "\n",
    "capital_cost * 100\n"
   ]
  },
  {
   "cell_type": "markdown",
   "id": "866a00a8",
   "metadata": {},
   "source": [
    "Calculate capital costs for Solar"
   ]
  },
  {
   "cell_type": "code",
   "execution_count": 62,
   "id": "8e432b0e",
   "metadata": {},
   "outputs": [
    {
     "data": {
      "text/plain": [
       "2294.336309145051"
      ]
     },
     "execution_count": 62,
     "metadata": {},
     "output_type": "execute_result"
    }
   ],
   "source": [
    "#costs.at['solar', 'capital_cost'] = 0.5*(costs.at['solar-rooftop', 'capital_cost'] +\n",
    "#                                             costs.at['solar-utility', 'capital_cost'])\n",
    "\n",
    "#solar rooftop 60908.673020179594\n",
    "#solar utility 49219.46981878289 use discountrate = 0.07\n",
    "\n",
    "solar_finalcapitalcost = 0.5*(2537.8613758408155 + 2050.8112424492865)\n",
    "solar_finalcapitalcost"
   ]
  },
  {
   "cell_type": "markdown",
   "id": "4199b0cc",
   "metadata": {},
   "source": [
    "Calculate marginal costs"
   ]
  },
  {
   "cell_type": "code",
   "execution_count": 142,
   "id": "b4d52cb1",
   "metadata": {},
   "outputs": [
    {
     "data": {
      "text/plain": [
       "148.85714285714286"
      ]
     },
     "execution_count": 142,
     "metadata": {},
     "output_type": "execute_result"
    }
   ],
   "source": [
    "#costs['marginal_cost'] = costs['VOM'] + costs['fuel'] / costs['efficiency']\n",
    "\n",
    "marginal_costs = 6 + 50 / 0.35\n",
    "marginal_costs"
   ]
  }
 ],
 "metadata": {
  "kernelspec": {
   "display_name": "Python 3 (ipykernel)",
   "language": "python",
   "name": "python3"
  },
  "language_info": {
   "codemirror_mode": {
    "name": "ipython",
    "version": 3
   },
   "file_extension": ".py",
   "mimetype": "text/x-python",
   "name": "python",
   "nbconvert_exporter": "python",
   "pygments_lexer": "ipython3",
   "version": "3.9.13"
  }
 },
 "nbformat": 4,
 "nbformat_minor": 5
}
