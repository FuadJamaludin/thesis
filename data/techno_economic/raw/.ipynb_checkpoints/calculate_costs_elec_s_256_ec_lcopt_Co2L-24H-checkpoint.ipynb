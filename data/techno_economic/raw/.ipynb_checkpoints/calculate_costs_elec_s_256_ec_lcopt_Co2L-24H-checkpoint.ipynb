{
 "cells": [
  {
   "cell_type": "code",
   "execution_count": 2,
   "id": "ddae1a4d",
   "metadata": {
    "scrolled": false
   },
   "outputs": [],
   "source": [
    "import pypsa\n",
    "import numpy as np\n",
    "import matplotlib.pyplot as plt\n",
    "import pandas as pd\n",
    "import os"
   ]
  },
  {
   "cell_type": "code",
   "execution_count": 3,
   "id": "684082ed",
   "metadata": {
    "scrolled": false
   },
   "outputs": [
    {
     "name": "stderr",
     "output_type": "stream",
     "text": [
      "WARNING:pypsa.io:\n",
      "Importing PyPSA from older version of PyPSA than current version.\n",
      "Please read the release notes at https://pypsa.readthedocs.io/en/latest/release_notes.html\n",
      "carefully to prepare your network for import.\n",
      "Currently used PyPSA version [0, 19, 3], imported network file PyPSA version [0, 18, 1].\n",
      "\n",
      "INFO:pypsa.io:Imported network elec_s_256_ec_lcopt_Co2L-24H.nc has buses, carriers, generators, global_constraints, lines, links, loads, storage_units, stores\n"
     ]
    }
   ],
   "source": [
    "network = pypsa.Network(\"C:/Users/work/pypsa/PyPSA-eur - training/elec_s_256_ec_lcopt_Co2L-24H_15.3.22/elec_s_256_ec_lcopt_Co2L-24H.nc\")"
   ]
  },
  {
   "cell_type": "markdown",
   "id": "2a09f13b",
   "metadata": {},
   "source": [
    "From pypsa-eur script https://github.com/PyPSA/pypsa-eur/blob/master/scripts/add_electricity.py"
   ]
  },
  {
   "cell_type": "markdown",
   "id": "88a8b102",
   "metadata": {},
   "source": [
    "def load_costs(tech_costs, config, elec_config, Nyears=1.):\n",
    "\n",
    "    # set all asset costs and other parameters\n",
    "    costs = pd.read_csv(\"C:/Users/work/pypsa-eur/data/costs.csv\", tech_costs, index_col=list(range(3))).sort_index()\n",
    "\n",
    "    # correct units to MW and EUR\n",
    "    costs.loc[costs.unit.str.contains(\"/kW\"),\"value\"] *= 1e3\n",
    "    costs.loc[costs.unit.str.contains(\"USD\"),\"value\"] *= config['USD2013_to_EUR2013']\n",
    "\n",
    "    costs = (costs.loc[idx[:,config['year'],:], \"value\"]\n",
    "             .unstack(level=2).groupby(\"technology\").sum(min_count=1))\n",
    "\n",
    "    costs = costs.fillna({\"CO2 intensity\" : 0,\n",
    "                          \"FOM\" : 0,\n",
    "                          \"VOM\" : 0,\n",
    "                          \"discount rate\" : config['discountrate'],\n",
    "                          \"efficiency\" : 1,\n",
    "                          \"fuel\" : 0,\n",
    "                          \"investment\" : 0,\n",
    "                          \"lifetime\" : 25})\n",
    "\n",
    "    costs[\"capital_cost\"] = ((annuity(costs[\"lifetime\"], costs[\"discount rate\"]) +\n",
    "                             costs[\"FOM\"]/100.) *\n",
    "                             costs[\"investment\"] * Nyears)"
   ]
  },
  {
   "cell_type": "code",
   "execution_count": 4,
   "id": "1a12a993",
   "metadata": {},
   "outputs": [
    {
     "data": {
      "text/plain": [
       "8760.000000000002"
      ]
     },
     "execution_count": 4,
     "metadata": {},
     "output_type": "execute_result"
    }
   ],
   "source": [
    "network.snapshot_weightings.objective.sum()"
   ]
  },
  {
   "cell_type": "code",
   "execution_count": 5,
   "id": "a8d2a3e1",
   "metadata": {},
   "outputs": [
    {
     "ename": "NameError",
     "evalue": "name 'discountrate' is not defined",
     "output_type": "error",
     "traceback": [
      "\u001b[1;31m---------------------------------------------------------------------------\u001b[0m",
      "\u001b[1;31mNameError\u001b[0m                                 Traceback (most recent call last)",
      "Input \u001b[1;32mIn [5]\u001b[0m, in \u001b[0;36m<cell line: 3>\u001b[1;34m()\u001b[0m\n\u001b[0;32m      1\u001b[0m \u001b[38;5;66;03m#discountrate=0.04\u001b[39;00m\n\u001b[1;32m----> 3\u001b[0m \u001b[38;5;28;01mdef\u001b[39;00m \u001b[38;5;21mannuity\u001b[39m(n,r\u001b[38;5;241m=\u001b[39m\u001b[43mdiscountrate\u001b[49m):\n\u001b[0;32m      4\u001b[0m     \u001b[38;5;124;03m\"\"\"Calculate the annuity factor for an asset with lifetime n years and\u001b[39;00m\n\u001b[0;32m      5\u001b[0m \u001b[38;5;124;03m    discount rate of r, e.g. annuity(20,0.05)*20 = 1.6\"\"\"\u001b[39;00m\n\u001b[0;32m      7\u001b[0m     \u001b[38;5;28;01mif\u001b[39;00m \u001b[38;5;28misinstance\u001b[39m(r, pd\u001b[38;5;241m.\u001b[39mSeries):\n",
      "\u001b[1;31mNameError\u001b[0m: name 'discountrate' is not defined"
     ]
    }
   ],
   "source": [
    "#discountrate=0.04\n",
    "\n",
    "def annuity(n,r=discountrate):\n",
    "    \"\"\"Calculate the annuity factor for an asset with lifetime n years and\n",
    "    discount rate of r, e.g. annuity(20,0.05)*20 = 1.6\"\"\"\n",
    "\n",
    "    if isinstance(r, pd.Series):\n",
    "        return pd.Series(1/n, index=r.index).where(r == 0, r/(1. - 1./(1.+r)**n))\n",
    "    elif r > 0:\n",
    "        return r/(1. - 1./(1.+r)**n)\n",
    "    else:\n",
    "        return 1/n"
   ]
  },
  {
   "cell_type": "markdown",
   "id": "f8767c40",
   "metadata": {},
   "source": [
    "Calculate Nyears = n.snapshot_weightings.objective.sum() / 8760."
   ]
  },
  {
   "cell_type": "code",
   "execution_count": null,
   "id": "5fe86aa0",
   "metadata": {},
   "outputs": [],
   "source": [
    "network.snapshot_weightings.objective.sum() / 8760"
   ]
  },
  {
   "cell_type": "markdown",
   "id": "ec5c95ac",
   "metadata": {},
   "source": [
    "Calculate capital costs"
   ]
  },
  {
   "cell_type": "code",
   "execution_count": null,
   "id": "21f7fc19",
   "metadata": {},
   "outputs": [],
   "source": [
    "#costs[\"capital_cost\"] = ((annuity(costs[\"lifetime\"], costs[\"discount rate\"]) +\n",
    "#                             costs[\"FOM\"]/100.) *\n",
    "#                             costs[\"investment\"] * Nyears)\n",
    "\n",
    "#Nyears = n.snapshot_weightings.objective.sum() / 8760.\n",
    "\n",
    "#costs = load_costs(snakemake.input.tech_costs, snakemake.config['costs'], snakemake.config['electricity'], Nyears)\n",
    "\n",
    "#pypsa's Nyears = 1.0000000000000002\n",
    "#my thesis Nyears with 24h freq = 0.041666666666666664\n",
    "\n",
    "capital_cost = ((annuity(30, 0.07) + 2/100) * 450 * 1)*1e3\n",
    "\n",
    "capital_cost"
   ]
  },
  {
   "cell_type": "markdown",
   "id": "866a00a8",
   "metadata": {},
   "source": [
    "Calculate capital costs for Solar"
   ]
  },
  {
   "cell_type": "code",
   "execution_count": 62,
   "id": "8e432b0e",
   "metadata": {},
   "outputs": [
    {
     "data": {
      "text/plain": [
       "2294.336309145051"
      ]
     },
     "execution_count": 62,
     "metadata": {},
     "output_type": "execute_result"
    }
   ],
   "source": [
    "#costs.at['solar', 'capital_cost'] = 0.5*(costs.at['solar-rooftop', 'capital_cost'] +\n",
    "#                                             costs.at['solar-utility', 'capital_cost'])\n",
    "\n",
    "#solar rooftop 60908.673020179594\n",
    "#solar utility 49219.46981878289 use discountrate = 0.07\n",
    "\n",
    "solar_finalcapitalcost = 0.5*(2537.8613758408155 + 2050.8112424492865)\n",
    "solar_finalcapitalcost"
   ]
  },
  {
   "cell_type": "markdown",
   "id": "4199b0cc",
   "metadata": {},
   "source": [
    "Calculate marginal costs"
   ]
  },
  {
   "cell_type": "code",
   "execution_count": 142,
   "id": "b4d52cb1",
   "metadata": {},
   "outputs": [
    {
     "data": {
      "text/plain": [
       "148.85714285714286"
      ]
     },
     "execution_count": 142,
     "metadata": {},
     "output_type": "execute_result"
    }
   ],
   "source": [
    "#costs['marginal_cost'] = costs['VOM'] + costs['fuel'] / costs['efficiency']\n",
    "\n",
    "marginal_costs = 6 + 50 / 0.35\n",
    "marginal_costs"
   ]
  },
  {
   "cell_type": "code",
   "execution_count": 86,
   "id": "e2f4d639",
   "metadata": {},
   "outputs": [],
   "source": [
    "lifetime = 30 #years\n",
    "discount_rate = 0.0775 #0.0775 #per unit\n",
    "size = 5 #MW\n",
    "specific_cost = 1040000 #EUR/MW\n",
    "fom = 12600 #EUR/MW/a\n",
    "fit = 0.1 #EUR/MWh\n",
    "flh = 1000 #h/a\n",
    "flows = pd.DataFrame(index=range(lifetime+1))\n",
    "flows[\"investment\"] = [-size*specific_cost] + [0]*lifetime\n",
    "flows[\"FOM\"] = [0] + [-size*fom]*lifetime\n",
    "flows[\"income\"] = [0] + [size*flh*fit]*lifetime\n",
    "flows[\"total_flow\"] = flows.sum(axis=1)\n",
    "flows[\"discount_factor\"] = [(1+discount_rate)**(-t) for t in range(lifetime+1)]\n",
    "flows[\"discounted_total_flow\"] = flows[\"total_flow\"]*flows[\"discount_factor\"]"
   ]
  },
  {
   "cell_type": "code",
   "execution_count": 87,
   "id": "30c3267e",
   "metadata": {},
   "outputs": [
    {
     "data": {
      "text/html": [
       "<div>\n",
       "<style scoped>\n",
       "    .dataframe tbody tr th:only-of-type {\n",
       "        vertical-align: middle;\n",
       "    }\n",
       "\n",
       "    .dataframe tbody tr th {\n",
       "        vertical-align: top;\n",
       "    }\n",
       "\n",
       "    .dataframe thead th {\n",
       "        text-align: right;\n",
       "    }\n",
       "</style>\n",
       "<table border=\"1\" class=\"dataframe\">\n",
       "  <thead>\n",
       "    <tr style=\"text-align: right;\">\n",
       "      <th></th>\n",
       "      <th>investment</th>\n",
       "      <th>FOM</th>\n",
       "      <th>income</th>\n",
       "      <th>total_flow</th>\n",
       "      <th>discount_factor</th>\n",
       "      <th>discounted_total_flow</th>\n",
       "    </tr>\n",
       "  </thead>\n",
       "  <tbody>\n",
       "    <tr>\n",
       "      <th>0</th>\n",
       "      <td>-5200000</td>\n",
       "      <td>0</td>\n",
       "      <td>0.0</td>\n",
       "      <td>-5200000.0</td>\n",
       "      <td>1.000000</td>\n",
       "      <td>-5.200000e+06</td>\n",
       "    </tr>\n",
       "    <tr>\n",
       "      <th>1</th>\n",
       "      <td>0</td>\n",
       "      <td>-63000</td>\n",
       "      <td>500.0</td>\n",
       "      <td>-62500.0</td>\n",
       "      <td>0.928074</td>\n",
       "      <td>-5.800464e+04</td>\n",
       "    </tr>\n",
       "    <tr>\n",
       "      <th>2</th>\n",
       "      <td>0</td>\n",
       "      <td>-63000</td>\n",
       "      <td>500.0</td>\n",
       "      <td>-62500.0</td>\n",
       "      <td>0.861322</td>\n",
       "      <td>-5.383261e+04</td>\n",
       "    </tr>\n",
       "    <tr>\n",
       "      <th>3</th>\n",
       "      <td>0</td>\n",
       "      <td>-63000</td>\n",
       "      <td>500.0</td>\n",
       "      <td>-62500.0</td>\n",
       "      <td>0.799371</td>\n",
       "      <td>-4.996066e+04</td>\n",
       "    </tr>\n",
       "    <tr>\n",
       "      <th>4</th>\n",
       "      <td>0</td>\n",
       "      <td>-63000</td>\n",
       "      <td>500.0</td>\n",
       "      <td>-62500.0</td>\n",
       "      <td>0.741875</td>\n",
       "      <td>-4.636720e+04</td>\n",
       "    </tr>\n",
       "  </tbody>\n",
       "</table>\n",
       "</div>"
      ],
      "text/plain": [
       "   investment    FOM  income  total_flow  discount_factor  \\\n",
       "0    -5200000      0     0.0  -5200000.0         1.000000   \n",
       "1           0 -63000   500.0    -62500.0         0.928074   \n",
       "2           0 -63000   500.0    -62500.0         0.861322   \n",
       "3           0 -63000   500.0    -62500.0         0.799371   \n",
       "4           0 -63000   500.0    -62500.0         0.741875   \n",
       "\n",
       "   discounted_total_flow  \n",
       "0          -5.200000e+06  \n",
       "1          -5.800464e+04  \n",
       "2          -5.383261e+04  \n",
       "3          -4.996066e+04  \n",
       "4          -4.636720e+04  "
      ]
     },
     "execution_count": 87,
     "metadata": {},
     "output_type": "execute_result"
    }
   ],
   "source": [
    "flows.head()"
   ]
  },
  {
   "cell_type": "code",
   "execution_count": 90,
   "id": "8e765227",
   "metadata": {},
   "outputs": [
    {
     "data": {
      "text/plain": [
       "1.2115384615384615"
      ]
     },
     "execution_count": 90,
     "metadata": {},
     "output_type": "execute_result"
    }
   ],
   "source": [
    "(63000/5200000) * 100"
   ]
  },
  {
   "cell_type": "code",
   "execution_count": null,
   "id": "8afe7f26",
   "metadata": {},
   "outputs": [],
   "source": []
  }
 ],
 "metadata": {
  "kernelspec": {
   "display_name": "Python 3 (ipykernel)",
   "language": "python",
   "name": "python3"
  },
  "language_info": {
   "codemirror_mode": {
    "name": "ipython",
    "version": 3
   },
   "file_extension": ".py",
   "mimetype": "text/x-python",
   "name": "python",
   "nbconvert_exporter": "python",
   "pygments_lexer": "ipython3",
   "version": "3.9.13"
  }
 },
 "nbformat": 4,
 "nbformat_minor": 5
}
