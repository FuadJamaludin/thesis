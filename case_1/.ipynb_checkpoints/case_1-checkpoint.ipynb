{
 "cells": [
  {
   "cell_type": "code",
   "execution_count": null,
   "id": "2a88c1c7",
   "metadata": {},
   "outputs": [],
   "source": [
    "import numpy as np\n",
    "import matplotlib.pyplot as plt\n",
    "import os\n",
    "import cartopy.crs as ccrs\n",
    "import folium\n",
    "from pypsa.linopt import get_var, linexpr, define_constraints\n",
    "from data.getData_func import *\n",
    "\n",
    "%matplotlib inline"
   ]
  },
  {
   "cell_type": "code",
   "execution_count": null,
   "id": "a4876d4e",
   "metadata": {
    "scrolled": false
   },
   "outputs": [],
   "source": [
    "### Case - 1 ###\n",
    "'''\n",
    "user input for:\n",
    "1) years to simulate\n",
    "2) which h2 demand scenario\n",
    "3) freq resolution in 1 year simulation - current: 24 hours / daily\n",
    "4) discount rate for generators capital costs calculation\n",
    "5) which h2 pipeline connection configuration (applicable for Case 3 only)\n",
    "'''\n",
    "\n",
    "years = '2030'  # [2030] or [2040] or [2050]\n",
    "h2_scenario_demand = 'TN-H2-G'  # subset of {'TN-H2-G', 'TN-PtG-PtL', 'TN-Strom'}\n",
    "freq = '4'\n",
    "discount_rate = 0.07\n",
    "\n",
    "'''\n",
    "choose configuration of h2 pipelines connection:\n",
    "1) 'short' - buses which have h2 demand (which is h2 buses), will connect to any h2 buses in the shortest distance\n",
    "2) 'all' - each h2 buses will connect to all other h2 buses regardless of short/long distances\n",
    "3) 'short_fnb_2030' - connects using 'short' config first and then follows roughly similar to proposed h2 pipeline\n",
    "                    connection based on FNB gas network development plan 2020 - 2030\n",
    "'''\n",
    "h2_pipe_config = 'short_fnb_2030'\n",
    "\n",
    "### Case - 1 ###\n",
    "\n",
    "network = get_network(years)\n",
    "\n",
    "snapshots = pd.DatetimeIndex([])\n",
    "period = pd.date_range(start='{}-01-01 00:00'.format(years),\n",
    "                       freq='{}H'.format(freq),\n",
    "                       periods=8760 / float(freq))\n",
    "snapshots = snapshots.append(period)\n",
    "\n",
    "network.snapshots = pd.MultiIndex.from_arrays([snapshots.year, snapshots])\n",
    "\n",
    "Nyears = network.snapshot_weightings.objective.sum() / 8760\n",
    "\n",
    "'''\n",
    "\n",
    "Nyears value depends on the snapshot resolution freq variable\n",
    "Change of Nyears value will affect the calculation of capital cost based on pypsa-eur methodology from \n",
    "the add_electricity script\n",
    "\n",
    "Nyears = network.snapshot_weightings.objective.sum() / 8760\n",
    "Nyears\n",
    "\n",
    "costs[\"capital_cost\"] = ((annuity(costs[\"lifetime\"], costs[\"discount rate\"]) + \n",
    "                            costs[\"FOM\"]/100.) *\n",
    "                            costs[\"investment\"] * Nyears)\n",
    "\n",
    "'''\n",
    "\n",
    "techno_econ_data = get_techno_econ_data(Nyears, years, discount_rate, network)\n",
    "\n",
    "pmaxpu_generators = network.generators[\n",
    "    (network.generators['carrier'] == 'Solar') |\n",
    "    (network.generators['carrier'] == 'Wind_Offshore') |\n",
    "    (network.generators['carrier'] == 'Wind_Onshore')]\n",
    "\n",
    "network.generators_t.p_max_pu = network.generators_t.p_max_pu.reindex(columns=pmaxpu_generators.index)\n",
    "\n",
    "network.generators_t.p_max_pu.loc[:, pmaxpu_generators.index] = pd.DataFrame(index=network.snapshots,\n",
    "                                                                             columns=pmaxpu_generators.index,\n",
    "                                                                             data=np.random.rand(len(network.snapshots),\n",
    "                                                                                                 len(pmaxpu_generators)))\n",
    "\n",
    "network.loads_t.p_set = pd.DataFrame(index=network.snapshots,\n",
    "                                     columns=network.loads.index,\n",
    "                                     data=1000 * np.random.rand(len(network.snapshots), len(network.loads)))\n",
    "\n",
    "h2_data = get_hydrogen_data(h2_scenario_demand, years, h2_pipe_config, network)\n",
    "\n",
    "# connect between electrical buses and hydrogen bus via link (as electrolysis unit)\n",
    "\n",
    "network.add('Bus', 'Hydrogen', carrier='Hydrogen', x=8.5, y=49.0)\n",
    "\n",
    "link_buses = h2_data['h2_links']\n",
    "\n",
    "link_names = [s + '_Electrolysis' for s in link_buses]\n",
    "\n",
    "# electrolysis capital cost and efficiency are based on DEA agency data and pypsa methodology calculations\n",
    "\n",
    "electrolysis_cap_cost = techno_econ_data.at['Electrolysis', 'capital_costs']\n",
    "electrolysis_efficiency = techno_econ_data.at['Electrolysis', 'efficiency']\n",
    "\n",
    "network.madd('Link',\n",
    "             link_names,\n",
    "             carrier='Hydrogen',\n",
    "             capital_cost=electrolysis_cap_cost,\n",
    "             p_nom_extendable=True,\n",
    "             bus0=link_buses,\n",
    "             bus1='Hydrogen',\n",
    "             efficiency=electrolysis_efficiency)\n",
    "\n",
    "network.add('Store', 'Store_Hydrogen', bus='Hydrogen', carrier='Hydrogen', e_nom_extendable=True)\n",
    "\n"
   ]
  },
  {
   "cell_type": "code",
   "execution_count": null,
   "id": "026f1059",
   "metadata": {
    "scrolled": false
   },
   "outputs": [],
   "source": [
    "def hydrogen_constraints(n, snapshots):\n",
    "    electrolysis_index = n.links.query('carrier == \"Hydrogen\"').index\n",
    "    electrolysis_vars = get_var(n, 'Link', 'p').loc[n.snapshots[:], electrolysis_index]\n",
    "    lhs = linexpr((1, electrolysis_vars)).sum().sum()\n",
    "    total_production = h2_data['h2_demand_value_total']\n",
    "\n",
    "    define_constraints(n, lhs, '>=', total_production, 'Link', 'global_hydrogen_production_goal')\n",
    "\n",
    "\n",
    "def extra_functionality(n, snapshots):\n",
    "    hydrogen_constraints(n, snapshots)\n"
   ]
  },
  {
   "cell_type": "code",
   "execution_count": null,
   "id": "ff23829f",
   "metadata": {},
   "outputs": [],
   "source": [
    "network.lopf(extra_functionality=extra_functionality, pyomo=False, solver_name='gurobi')"
   ]
  },
  {
   "cell_type": "code",
   "execution_count": null,
   "id": "e325e249",
   "metadata": {},
   "outputs": [],
   "source": [
    "network.generators.p_nom_opt.plot.bar(ylabel='MW', figsize=(15,10))\n",
    "plt.tight_layout()"
   ]
  },
  {
   "cell_type": "code",
   "execution_count": null,
   "id": "45aa92bf",
   "metadata": {},
   "outputs": [],
   "source": [
    "all_carr = list(network.carriers.index)"
   ]
  },
  {
   "cell_type": "code",
   "execution_count": null,
   "id": "00ae29d8",
   "metadata": {},
   "outputs": [],
   "source": [
    "gen_carr = list(np.unique(list(network.generators.carrier)))\n",
    "gen_carr"
   ]
  },
  {
   "cell_type": "code",
   "execution_count": null,
   "id": "4b324ab7",
   "metadata": {},
   "outputs": [],
   "source": [
    "df_gen_p_nom_opt = pd.DataFrame(index=gen_carr)"
   ]
  },
  {
   "cell_type": "code",
   "execution_count": null,
   "id": "bfb7e22a",
   "metadata": {
    "scrolled": false
   },
   "outputs": [],
   "source": [
    "gen_p_nom_opt_list = []\n",
    "gen_p_nom_list = []\n",
    "\n",
    "for carr_count_x in range(len(gen_carr)):\n",
    "    p_nom_opt_sum_x = network.generators[network.generators['carrier'] == '{}'.format(gen_carr[carr_count_x])]['p_nom_opt'].sum()\n",
    "    p_nom_sum_x = network.generators[network.generators['carrier'] == '{}'.format(gen_carr[carr_count_x])]['p_nom'].sum()\n",
    "    gen_p_nom_opt_list.append(round(p_nom_opt_sum_x,2))\n",
    "    gen_p_nom_list.append(round(p_nom_sum_x,2))\n",
    "    \n",
    "\n",
    "df_gen_p_nom_opt['capacity p_nom_sum (MW)'] = gen_p_nom_list\n",
    "df_gen_p_nom_opt['p_nom_opt_sum (MW)'] = gen_p_nom_opt_list  \n",
    "\n",
    "df_gen_p_nom_opt"
   ]
  },
  {
   "cell_type": "code",
   "execution_count": null,
   "id": "00ef7b14",
   "metadata": {},
   "outputs": [],
   "source": [
    "network.generators.p_nom_opt.sort_values(ascending=False)"
   ]
  },
  {
   "cell_type": "code",
   "execution_count": null,
   "id": "0036a066",
   "metadata": {},
   "outputs": [],
   "source": [
    "su_unit_carr = list(np.unique(list(network.storage_units.carrier)))\n",
    "su_unit_carr"
   ]
  },
  {
   "cell_type": "code",
   "execution_count": null,
   "id": "21a88b0e",
   "metadata": {},
   "outputs": [],
   "source": [
    "df_stor_unit_p_nom_opt = pd.DataFrame(index=su_unit_carr)"
   ]
  },
  {
   "cell_type": "code",
   "execution_count": null,
   "id": "b2954a8f",
   "metadata": {
    "scrolled": true
   },
   "outputs": [],
   "source": [
    "su_p_nom_opt_list = []\n",
    "su_p_nom_list = []\n",
    "\n",
    "for carr_count_y in range(len(su_unit_carr)):\n",
    "    p_nom_opt_sum_y = network.storage_units[network.storage_units['carrier'] == '{}'.format(su_unit_carr[carr_count_y])]['p_nom_opt'].sum()\n",
    "    p_nom_sum_y = network.storage_units[network.storage_units['carrier'] == '{}'.format(su_unit_carr[carr_count_y])]['p_nom'].sum()\n",
    "    su_p_nom_opt_list.append(round(p_nom_opt_sum_y,2))\n",
    "    su_p_nom_list.append(round(p_nom_sum_y,2))\n",
    "    \n",
    "\n",
    "df_stor_unit_p_nom_opt['capacity p_nom_sum (MW)'] = su_p_nom_list\n",
    "df_stor_unit_p_nom_opt['p_nom_opt_sum (MW)'] = su_p_nom_opt_list  \n",
    "\n",
    "df_stor_unit_p_nom_opt        "
   ]
  },
  {
   "cell_type": "code",
   "execution_count": null,
   "id": "3a55a9cb",
   "metadata": {
    "scrolled": false
   },
   "outputs": [],
   "source": [
    "network.links.p_nom_opt.plot.bar(ylabel='MW', figsize=(15,10))\n",
    "plt.tight_layout()"
   ]
  },
  {
   "cell_type": "code",
   "execution_count": null,
   "id": "7ec506e8",
   "metadata": {},
   "outputs": [],
   "source": [
    "network.links.p_nom_opt.sum()"
   ]
  },
  {
   "cell_type": "code",
   "execution_count": null,
   "id": "811ed86c",
   "metadata": {},
   "outputs": [],
   "source": [
    "network.links.p_nom_opt.sort_values(ascending=False)"
   ]
  },
  {
   "cell_type": "code",
   "execution_count": null,
   "id": "09f5efdb",
   "metadata": {},
   "outputs": [],
   "source": [
    "str_unit_carr = list(np.unique(list(network.stores.carrier)))"
   ]
  },
  {
   "cell_type": "code",
   "execution_count": null,
   "id": "3e6ed309",
   "metadata": {},
   "outputs": [],
   "source": [
    "df_stor_p_nom_opt = pd.DataFrame(index=str_unit_carr)"
   ]
  },
  {
   "cell_type": "code",
   "execution_count": null,
   "id": "8ae6fe11",
   "metadata": {},
   "outputs": [],
   "source": [
    "str_p_nom_opt_list = []\n",
    "str_p_nom_list = []\n",
    "\n",
    "for carr_count_z in range(len(str_unit_carr)):\n",
    "    p_nom_opt_sum_z = network.stores[network.stores['carrier'] == '{}'.format(str_unit_carr[carr_count_z])]['e_nom_opt'].sum()\n",
    "    p_nom_sum_z = network.stores[network.stores['carrier'] == '{}'.format(str_unit_carr[carr_count_z])]['e_nom'].sum()\n",
    "    str_p_nom_opt_list.append(round(p_nom_opt_sum_z,2))\n",
    "    str_p_nom_list.append(round(p_nom_sum_z,2))\n",
    "    \n",
    "\n",
    "df_stor_p_nom_opt['capacity e_nom_sum (MWh)'] = str_p_nom_list\n",
    "df_stor_p_nom_opt['e_nom_opt_sum (MWh)'] = str_p_nom_opt_list  \n",
    "\n",
    "df_stor_p_nom_opt        "
   ]
  }
 ],
 "metadata": {
  "kernelspec": {
   "display_name": "Python 3 (ipykernel)",
   "language": "python",
   "name": "python3"
  },
  "language_info": {
   "codemirror_mode": {
    "name": "ipython",
    "version": 3
   },
   "file_extension": ".py",
   "mimetype": "text/x-python",
   "name": "python",
   "nbconvert_exporter": "python",
   "pygments_lexer": "ipython3",
   "version": "3.9.13"
  }
 },
 "nbformat": 4,
 "nbformat_minor": 5
}
