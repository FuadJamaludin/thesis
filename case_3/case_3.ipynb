{
 "cells": [
  {
   "cell_type": "code",
   "execution_count": null,
   "id": "5ce5c61c",
   "metadata": {},
   "outputs": [],
   "source": [
    "import numpy as np\n",
    "import matplotlib.pyplot as plt\n",
    "import os\n",
    "import cartopy.crs as ccrs\n",
    "import folium\n",
    "from pypsa.linopt import get_var, linexpr, define_constraints\n",
    "from data.getData_func import *\n",
    "\n",
    "%matplotlib inline"
   ]
  },
  {
   "cell_type": "code",
   "execution_count": null,
   "id": "83df5fed",
   "metadata": {
    "scrolled": true
   },
   "outputs": [],
   "source": [
    "### Case - 3 ###\n",
    "'''\n",
    "user input for:\n",
    "1) years to simulate\n",
    "2) which h2 demand scenario\n",
    "3) freq resolution in 1 year simulation - current: 24 hours / daily\n",
    "4) discount rate for generators capital costs calculation\n",
    "5) which h2 pipeline connection configuration (applicable for Case 3 only)\n",
    "'''\n",
    "\n",
    "years = '2030'  # [2030] or [2040] or [2050]\n",
    "h2_scenario_demand = 'TN-H2-G'  # subset of {'TN-H2-G', 'TN-PtG-PtL', 'TN-Strom'}\n",
    "freq = '4'\n",
    "discount_rate = 0.07\n",
    "\n",
    "'''\n",
    "choose configuration of h2 pipelines connection:\n",
    "1) 'short' - buses which have h2 demand (which is h2 buses), will connect to any h2 buses in the shortest distance\n",
    "2) 'all' - each h2 buses will connect to all other h2 buses regardless of short/long distances\n",
    "3) 'short_fnb_2030' - connects using 'short' config first and then follows roughly similar to proposed h2 pipeline\n",
    "                    connection based on FNB gas network development plan 2020 - 2030\n",
    "'''\n",
    "h2_pipe_config = 'short_fnb_2030'\n",
    "\n",
    "### Case - 3 ###\n",
    "\n",
    "network = get_network(years)\n",
    "\n",
    "snapshots = pd.DatetimeIndex([])\n",
    "period = pd.date_range(start='{}-01-01 00:00'.format(years),\n",
    "                       freq='{}H'.format(freq),\n",
    "                       periods=8760 / float(freq))\n",
    "snapshots = snapshots.append(period)\n",
    "\n",
    "network.snapshots = pd.MultiIndex.from_arrays([snapshots.year, snapshots])\n",
    "\n",
    "Nyears = network.snapshot_weightings.objective.sum() / 8760\n",
    "\n",
    "'''\n",
    "\n",
    "Nyears value depends on the snapshot resolution freq variable\n",
    "Change of Nyears value will affect the calculation of capital cost based on pypsa-eur methodology from \n",
    "the add_electricity script\n",
    "\n",
    "Nyears = network.snapshot_weightings.objective.sum() / 8760\n",
    "Nyears\n",
    "\n",
    "costs[\"capital_cost\"] = ((annuity(costs[\"lifetime\"], costs[\"discount rate\"]) + \n",
    "                            costs[\"FOM\"]/100.) *\n",
    "                            costs[\"investment\"] * Nyears)\n",
    "\n",
    "'''\n",
    "\n",
    "techno_econ_data = get_techno_econ_data(Nyears, years, discount_rate, network)\n",
    "\n",
    "pmaxpu_generators = network.generators[\n",
    "    (network.generators['carrier'] == 'Solar') |\n",
    "    (network.generators['carrier'] == 'Wind_Offshore') |\n",
    "    (network.generators['carrier'] == 'Wind_Onshore')]\n",
    "\n",
    "network.generators_t.p_max_pu = network.generators_t.p_max_pu.reindex(columns=pmaxpu_generators.index)\n",
    "\n",
    "network.generators_t.p_max_pu.loc[:, pmaxpu_generators.index] = pd.DataFrame(index=network.snapshots,\n",
    "                                                                             columns=pmaxpu_generators.index,\n",
    "                                                                             data=np.random.rand(len(network.snapshots),\n",
    "                                                                                                 len(pmaxpu_generators)))\n",
    "\n",
    "h2_data = get_hydrogen_data(h2_scenario_demand, years, h2_pipe_config, network)\n",
    "\n",
    "# connect between electrical buses and hydrogen bus via link (as electrolysis unit)\n",
    "\n",
    "df_h2_buses_load = pd.DataFrame(h2_data['h2_buses_load'])\n",
    "df_h2_pipes = pd.DataFrame(h2_data['h2_pipelines'])\n",
    "\n",
    "h2_buses_names = list(df_h2_buses_load.index)\n",
    "\n",
    "h2_buses = [x + '_H2_Bus' for x in h2_buses_names]\n",
    "\n",
    "network.madd('Bus',\n",
    "             h2_buses,\n",
    "             carrier='H2',\n",
    "             x=list(df_h2_buses_load['x']),\n",
    "             y=list(df_h2_buses_load['y'])\n",
    "             )\n",
    "\n",
    "# electrolysis capital cost and efficiency are based on DEA agency data and pypsa methodology calculations\n",
    "\n",
    "electrolysis_cap_cost = techno_econ_data.at['Electrolysis', 'capital_costs']\n",
    "electrolysis_efficiency = techno_econ_data.at['Electrolysis', 'efficiency']\n",
    "\n",
    "h2_links = [s + '_Electrolysis' for s in h2_buses_names]\n",
    "\n",
    "network.madd('Link',\n",
    "             h2_links,\n",
    "             carrier='H2',\n",
    "             capital_cost=electrolysis_cap_cost,\n",
    "             p_nom_extendable=True,\n",
    "             bus0=h2_buses_names,\n",
    "             bus1=h2_buses,\n",
    "             efficiency=electrolysis_efficiency)\n",
    "\n",
    "h2_pipe_cap_cost = techno_econ_data.at['H2_(g)_pipeline', 'capital_costs']\n",
    "h2_pipe_efficiency = techno_econ_data.at['H2_(g)_pipeline', 'efficiency']\n",
    "\n",
    "network.madd('Link',\n",
    "             df_h2_pipes.index,\n",
    "             bus0=list(df_h2_pipes['bus_0']),\n",
    "             bus1=list(df_h2_pipes['bus_1']),\n",
    "             p_min_pu=-1,\n",
    "             p_nom_extendable=True,\n",
    "             length=list(df_h2_pipes['distance_km']),\n",
    "             capital_cost=h2_pipe_cap_cost * df_h2_pipes['distance_km'],\n",
    "             efficiency=h2_pipe_efficiency,\n",
    "             carrier='H2')\n",
    "\n",
    "h2_stores = [y + '_H2_Store' for y in h2_buses_names]\n",
    "\n",
    "network.madd('Store',\n",
    "             h2_stores,\n",
    "             bus=h2_buses,\n",
    "             carrier='H2',\n",
    "             e_nom_extendable=True)\n",
    "\n",
    "h2_loads = [z + '_H2_Load' for z in h2_buses_names]\n",
    "\n",
    "network.madd('Load',\n",
    "             h2_loads,\n",
    "             bus=h2_buses,\n",
    "             carrier='H2',\n",
    "             x=list(df_h2_buses_load['x']),\n",
    "             y=list(df_h2_buses_load['y'])\n",
    "             )\n",
    "\n",
    "ac_loads = network.loads[(network.loads['carrier'] == 'AC')]\n",
    "\n",
    "ac_loads_p_set = pd.DataFrame(index=network.snapshots,\n",
    "                              columns=ac_loads.index,\n",
    "                              data=1000 * np.random.rand(len(network.snapshots), len(ac_loads)))\n",
    "\n",
    "df_h2_p_set = pd.DataFrame(index=network.snapshots, columns=h2_loads)\n",
    "\n",
    "for i_load in range(len(df_h2_p_set.columns)):\n",
    "    df_h2_p_set['{}'.format(df_h2_p_set.columns[i_load])] = df_h2_buses_load['h2_load'][i_load] / len(network.snapshots)\n",
    "\n",
    "network.loads_t.p_set = pd.merge(ac_loads_p_set, df_h2_p_set, left_index=True, right_index=True)"
   ]
  },
  {
   "cell_type": "code",
   "execution_count": null,
   "id": "cdb2adb7",
   "metadata": {},
   "outputs": [],
   "source": [
    "# for electrolysis\n",
    "\n",
    "elec_list = []\n",
    "\n",
    "for y in network.links.index:\n",
    "    if '_Electrolysis' in y.split('110kV'):\n",
    "        elec_list.append(y)"
   ]
  },
  {
   "cell_type": "code",
   "execution_count": null,
   "id": "fbee3c0d",
   "metadata": {},
   "outputs": [],
   "source": [
    "# for h2 pipes\n",
    "\n",
    "h2_pipe_list = []\n",
    "for x in network.links.index:\n",
    "    if '_h2_pipe' in x.split('110kV'):\n",
    "        h2_pipe_list.append(x)"
   ]
  },
  {
   "cell_type": "code",
   "execution_count": null,
   "id": "e5a9fe93",
   "metadata": {},
   "outputs": [],
   "source": [
    "elec_list = pd.Series('blue', elec_list)\n",
    "h2_pipe_list = pd.Series('green', h2_pipe_list)\n",
    "line_colors = pd.Series('white', network.lines.index)"
   ]
  },
  {
   "cell_type": "code",
   "execution_count": null,
   "id": "35404383",
   "metadata": {
    "scrolled": false
   },
   "outputs": [],
   "source": [
    "link_colors = elec_list.append(h2_pipe_list)"
   ]
  },
  {
   "cell_type": "code",
   "execution_count": null,
   "id": "9cd809c0",
   "metadata": {},
   "outputs": [],
   "source": [
    "link_colors"
   ]
  },
  {
   "cell_type": "code",
   "execution_count": null,
   "id": "412719da",
   "metadata": {},
   "outputs": [],
   "source": [
    "fnb_2030_plus = [['Eichstetten_110kV', 'Lorrach_110kV'],\n",
    "                ['KarlsruheWest_110kV', 'HeidelburgSud_110kV'],\n",
    "                ['HeidelburgSud_110kV', 'Grossgartach_110kV'],\n",
    "                ['Grossgartach_110kV', 'Kupferzell_110kV'],\n",
    "                ['Sindelfingen_110kV', 'Birkenfeld_110kV'],\n",
    "                ['Sindelfingen_110kV', 'Oberjettingen_110kV'],\n",
    "                ['Reutlingen_110kV', 'Laufen_an_der_Eyach_110kV'],\n",
    "                ['Sipplingen_110kV', 'Markdorf_110kV'],\n",
    "                ['Biberach_110kV', 'Ravensburg_110kV'],\n",
    "                ['Goldshofe_110kV', 'Giengen_110kV']]\n",
    "\n",
    "if h2_pipe_config == 'short_fnb_2030':\n",
    "    \n",
    "    for i_count in range(len(fnb_2030_plus)):\n",
    "        link_colors.loc['{}_{}_h2_pipe'.format(fnb_2030_plus[i_count][0], fnb_2030_plus[i_count][1])] = 'red'\n",
    "    "
   ]
  },
  {
   "cell_type": "code",
   "execution_count": null,
   "id": "a099eda7",
   "metadata": {},
   "outputs": [],
   "source": [
    "link_colors"
   ]
  },
  {
   "cell_type": "code",
   "execution_count": null,
   "id": "f8f002ab",
   "metadata": {},
   "outputs": [],
   "source": [
    "map = folium.Map(location=[48.77000, 9.18], zoom_start=7, tiles=\"OpenStreetMap\")\n",
    "\n",
    "#tooltip = \"Click me!\"\n",
    "\n",
    "# y # x\n",
    "\n",
    "for x in range(len(df_h2_buses_load)):\n",
    "    folium.Marker([df_h2_buses_load['y'][x], df_h2_buses_load['x'][x]], \n",
    "            popup=\"<i>{}_H2_bus</i>\".format(df_h2_buses_load.index[x])).add_to(map)\n",
    "\n",
    "map"
   ]
  },
  {
   "cell_type": "code",
   "execution_count": null,
   "id": "2c05ffb3",
   "metadata": {},
   "outputs": [],
   "source": [
    "fig, ax = plt.subplots(\n",
    "    1, 1, subplot_kw={\"projection\": ccrs.EqualEarth()}, figsize=(10, 10)\n",
    ")\n",
    "\n",
    "network.plot(ax=ax, margin=0.08, bus_sizes = 0.0005, color_geomap=True, \n",
    "             link_colors = link_colors, line_colors = line_colors)"
   ]
  },
  {
   "cell_type": "code",
   "execution_count": null,
   "id": "3ed92cda",
   "metadata": {
    "scrolled": false
   },
   "outputs": [],
   "source": [
    "network.lopf(pyomo=False, solver_name='gurobi')"
   ]
  },
  {
   "cell_type": "code",
   "execution_count": null,
   "id": "816974cc",
   "metadata": {},
   "outputs": [],
   "source": [
    "network.generators.p_nom_opt.plot.bar(ylabel='MW', figsize=(15,10))\n",
    "plt.tight_layout()"
   ]
  },
  {
   "cell_type": "code",
   "execution_count": null,
   "id": "870942d6",
   "metadata": {},
   "outputs": [],
   "source": [
    "all_carr = list(network.carriers.index)"
   ]
  },
  {
   "cell_type": "code",
   "execution_count": null,
   "id": "614eca32",
   "metadata": {},
   "outputs": [],
   "source": [
    "gen_carr = list(np.unique(list(network.generators.carrier)))\n",
    "gen_carr"
   ]
  },
  {
   "cell_type": "code",
   "execution_count": null,
   "id": "42b6f0e5",
   "metadata": {},
   "outputs": [],
   "source": [
    "df_gen_p_nom_opt = pd.DataFrame(index=gen_carr)"
   ]
  },
  {
   "cell_type": "code",
   "execution_count": null,
   "id": "d2f9cd95",
   "metadata": {},
   "outputs": [],
   "source": [
    "gen_p_nom_opt_list = []\n",
    "gen_p_nom_list = []\n",
    "\n",
    "for carr_count_x in range(len(gen_carr)):\n",
    "    p_nom_opt_sum_x = network.generators[network.generators['carrier'] == '{}'.format(gen_carr[carr_count_x])]['p_nom_opt'].sum()\n",
    "    p_nom_sum_x = network.generators[network.generators['carrier'] == '{}'.format(gen_carr[carr_count_x])]['p_nom'].sum()\n",
    "    gen_p_nom_opt_list.append(round(p_nom_opt_sum_x,2))\n",
    "    gen_p_nom_list.append(round(p_nom_sum_x,2))\n",
    "    \n",
    "\n",
    "df_gen_p_nom_opt['capacity p_nom_sum (MW)'] = gen_p_nom_list\n",
    "df_gen_p_nom_opt['p_nom_opt_sum (MW)'] = gen_p_nom_opt_list  \n",
    "\n",
    "df_gen_p_nom_opt"
   ]
  },
  {
   "cell_type": "code",
   "execution_count": null,
   "id": "e74d367b",
   "metadata": {},
   "outputs": [],
   "source": [
    "network.generators.p_nom_opt.sort_values(ascending=False)"
   ]
  },
  {
   "cell_type": "code",
   "execution_count": null,
   "id": "eadd3c34",
   "metadata": {},
   "outputs": [],
   "source": [
    "su_unit_carr = list(np.unique(list(network.storage_units.carrier)))\n",
    "su_unit_carr"
   ]
  },
  {
   "cell_type": "code",
   "execution_count": null,
   "id": "ef2faeee",
   "metadata": {},
   "outputs": [],
   "source": [
    "df_stor_unit_p_nom_opt = pd.DataFrame(index=su_unit_carr)"
   ]
  },
  {
   "cell_type": "code",
   "execution_count": null,
   "id": "4a816011",
   "metadata": {},
   "outputs": [],
   "source": [
    "su_p_nom_opt_list = []\n",
    "su_p_nom_list = []\n",
    "\n",
    "for carr_count_y in range(len(su_unit_carr)):\n",
    "    p_nom_opt_sum_y = network.storage_units[network.storage_units['carrier'] == '{}'.format(su_unit_carr[carr_count_y])]['p_nom_opt'].sum()\n",
    "    p_nom_sum_y = network.storage_units[network.storage_units['carrier'] == '{}'.format(su_unit_carr[carr_count_y])]['p_nom'].sum()\n",
    "    su_p_nom_opt_list.append(round(p_nom_opt_sum_y,2))\n",
    "    su_p_nom_list.append(round(p_nom_sum_y,2))\n",
    "    \n",
    "\n",
    "df_stor_unit_p_nom_opt['capacity p_nom_sum (MW)'] = su_p_nom_list\n",
    "df_stor_unit_p_nom_opt['p_nom_opt_sum (MW)'] = su_p_nom_opt_list  \n",
    "\n",
    "df_stor_unit_p_nom_opt        "
   ]
  },
  {
   "cell_type": "code",
   "execution_count": null,
   "id": "fa0f0eb4",
   "metadata": {},
   "outputs": [],
   "source": [
    "network.links.p_nom_opt.plot.bar(ylabel='MW', figsize=(15,10))\n",
    "plt.tight_layout()"
   ]
  },
  {
   "cell_type": "code",
   "execution_count": null,
   "id": "85581b88",
   "metadata": {},
   "outputs": [],
   "source": []
  },
  {
   "cell_type": "code",
   "execution_count": null,
   "id": "67010a5d",
   "metadata": {},
   "outputs": [],
   "source": []
  },
  {
   "cell_type": "code",
   "execution_count": null,
   "id": "4c548b79",
   "metadata": {},
   "outputs": [],
   "source": []
  },
  {
   "cell_type": "code",
   "execution_count": null,
   "id": "12d70d15",
   "metadata": {},
   "outputs": [],
   "source": []
  },
  {
   "cell_type": "code",
   "execution_count": null,
   "id": "ebe07e67",
   "metadata": {},
   "outputs": [],
   "source": []
  },
  {
   "cell_type": "code",
   "execution_count": null,
   "id": "ba3a5d44",
   "metadata": {},
   "outputs": [],
   "source": []
  },
  {
   "cell_type": "code",
   "execution_count": null,
   "id": "4952a360",
   "metadata": {},
   "outputs": [],
   "source": []
  }
 ],
 "metadata": {
  "kernelspec": {
   "display_name": "Python 3 (ipykernel)",
   "language": "python",
   "name": "python3"
  },
  "language_info": {
   "codemirror_mode": {
    "name": "ipython",
    "version": 3
   },
   "file_extension": ".py",
   "mimetype": "text/x-python",
   "name": "python",
   "nbconvert_exporter": "python",
   "pygments_lexer": "ipython3",
   "version": "3.9.13"
  }
 },
 "nbformat": 4,
 "nbformat_minor": 5
}
