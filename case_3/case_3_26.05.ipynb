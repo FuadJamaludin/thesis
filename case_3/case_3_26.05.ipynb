{
 "cells": [
  {
   "cell_type": "code",
   "execution_count": 1,
   "id": "5ce5c61c",
   "metadata": {},
   "outputs": [],
   "source": [
    "import pypsa\n",
    "import numpy as np\n",
    "import pandas as pd\n",
    "import matplotlib.pyplot as plt\n",
    "import os\n",
    "import cartopy.crs as ccrs\n",
    "from pypsa.linopt import get_var, linexpr, define_constraints\n",
    "from geopy.geocoders import Nominatim\n",
    "from geopy import distance"
   ]
  },
  {
   "cell_type": "code",
   "execution_count": 2,
   "id": "83df5fed",
   "metadata": {
    "scrolled": true
   },
   "outputs": [
    {
     "name": "stderr",
     "output_type": "stream",
     "text": [
      "INFO:pypsa.io:Imported network 2_2040 has buses, carriers, generators, global_constraints, lines, loads, storage_units, transformers\n",
      "C:\\Users\\HP Elitebook 840\\AppData\\Local\\Temp\\ipykernel_6304\\314581525.py:58: SettingWithCopyWarning:\n",
      "\n",
      "\n",
      "A value is trying to be set on a copy of a slice from a DataFrame\n",
      "\n",
      "See the caveats in the documentation: https://pandas.pydata.org/pandas-docs/stable/user_guide/indexing.html#returning-a-view-versus-a-copy\n",
      "\n",
      "C:\\Users\\HP Elitebook 840\\AppData\\Local\\Temp\\ipykernel_6304\\314581525.py:59: SettingWithCopyWarning:\n",
      "\n",
      "\n",
      "A value is trying to be set on a copy of a slice from a DataFrame\n",
      "\n",
      "See the caveats in the documentation: https://pandas.pydata.org/pandas-docs/stable/user_guide/indexing.html#returning-a-view-versus-a-copy\n",
      "\n"
     ]
    }
   ],
   "source": [
    "def get_electrical_data(years_elect):\n",
    "    if years_elect == [2030]:\n",
    "        return \"C:/Users/work/pypsa_thesis/data/electrical/1_2030\"\n",
    "    elif years_elect == [2040]:\n",
    "        return \"C:/Users/work/pypsa_thesis/data/electrical/2_2040\"\n",
    "    elif years_elect == [2050]:\n",
    "        return \"C:/Users/work/pypsa_thesis/data/electrical/3_2050\"\n",
    "\n",
    "\n",
    "def get_hydrogen_data(scenario_h2, years_h2):\n",
    "    if scenario_h2 == 'TN-H2-G':\n",
    "        if years_h2 == [2030]:\n",
    "            load_data = pd.read_csv(\"C:/Users/work/pypsa_thesis/data/hydrogen/TN-H2-G/BW_2030.csv\",\n",
    "                                      index_col=0)\n",
    "\n",
    "        elif years_h2 == [2040]:\n",
    "            load_data = pd.read_csv(\"C:/Users/work/pypsa_thesis/data/hydrogen/TN-H2-G/BW_2040.csv\",\n",
    "                                      index_col=0)\n",
    "\n",
    "        elif years_h2 == [2050]:\n",
    "            load_data = pd.read_csv(\"C:/Users/work/pypsa_thesis/data/hydrogen/TN-H2-G/BW_2050.csv\",\n",
    "                                      index_col=0)\n",
    "\n",
    "    elif scenario_h2 == 'TN-PtG-PtL':\n",
    "        if years_h2 == [2030]:\n",
    "            load_data = pd.read_csv(\"C:/Users/work/pypsa_thesis/data/hydrogen/TN-PtG-PtL/BW_2030.csv\",\n",
    "                                      index_col=0)\n",
    "\n",
    "        elif years_h2 == [2040]:\n",
    "            load_data = pd.read_csv(\"C:/Users/work/pypsa_thesis/data/hydrogen/TN-PtG-PtL/BW_2040.csv\",\n",
    "                                      index_col=0)\n",
    "\n",
    "        elif years_h2 == [2050]:\n",
    "            load_data = pd.read_csv(\"C:/Users/work/pypsa_thesis/data/hydrogen/TN-PtG-PtL/BW_2050.csv\",\n",
    "                                      index_col=0)\n",
    "\n",
    "    elif scenario_h2 == 'TN-Strom':\n",
    "        if years_h2 == [2030]:\n",
    "            load_data = pd.read_csv(\"C:/Users/work/pypsa_thesis/data/hydrogen/TN-Strom/BW_2030.csv\",\n",
    "                                      index_col=0)\n",
    "\n",
    "        elif years_h2 == [2040]:\n",
    "            load_data = pd.read_csv(\"C:/Users/work/pypsa_thesis/data/hydrogen/TN-Strom/BW_2040.csv\",\n",
    "                                      index_col=0)\n",
    "\n",
    "        elif years_h2 == [2050]:\n",
    "            load_data = pd.read_csv(\"C:/Users/work/pypsa_thesis/data/hydrogen/TN-Strom/BW_2050.csv\",\n",
    "                                      index_col=0)\n",
    "\n",
    "    df_h2_demand = pd.DataFrame(load_data)\n",
    "    df_h2_demand.index.names = ['location_name']\n",
    "    df_h2_demand.reset_index(inplace=True)\n",
    "    df_h2_demand.dropna(subset=['location_name'], inplace=True)\n",
    "\n",
    "    for loc_count in range(len(df_h2_demand['location_name'])):\n",
    "        geolocator = Nominatim(user_agent=\"locate_h2_demand\")\n",
    "        locate_h2_demand = geolocator.geocode(df_h2_demand['location_name'][loc_count].split(',')[0])\n",
    "        df_h2_demand['x'][loc_count] = locate_h2_demand.longitude\n",
    "        df_h2_demand['y'][loc_count] = locate_h2_demand.latitude\n",
    "\n",
    "    df_ac_loads_h2_loads_dist = pd.DataFrame(index=network.loads.index, columns=df_h2_demand['location_name'])\n",
    "\n",
    "    for city_count_x in range(len(network.loads.index)):\n",
    "        for city_count_y in range(len(df_h2_demand['location_name'])):\n",
    "            if network.loads.index[city_count_x] != df_h2_demand['location_name'][city_count_y]:\n",
    "                city_1 = (network.loads['y'][city_count_x], network.loads['x'][city_count_x])\n",
    "                city_2 = (df_h2_demand['y'][city_count_y], df_h2_demand['x'][city_count_y])\n",
    "                dist_city1_city2 = distance.distance(city_1, city_2).km\n",
    "                df_ac_loads_h2_loads_dist.at[\n",
    "                    network.loads.index[city_count_x], df_h2_demand['location_name'][city_count_y]] = dist_city1_city2\n",
    "\n",
    "    ac_loads_h2_links = []\n",
    "\n",
    "    for column_count_x in df_ac_loads_h2_loads_dist.columns:\n",
    "        for distance_count_x in range(len(df_ac_loads_h2_loads_dist[column_count_x])):\n",
    "            if df_ac_loads_h2_loads_dist[column_count_x][distance_count_x] == \\\n",
    "                    df_ac_loads_h2_loads_dist[column_count_x].min():\n",
    "                ac_loads_h2_links.append(df_ac_loads_h2_loads_dist.index[distance_count_x])\n",
    "\n",
    "    ac_loads_h2_links = list(dict.fromkeys(ac_loads_h2_links))\n",
    "\n",
    "    df_h2_buses_load = pd.DataFrame(index=ac_loads_h2_links, columns={'h2_load': [], 'x': [], 'y': []})\n",
    "\n",
    "    for buses_count in range(len(network.buses.index)):\n",
    "        for h2_buses_count in range(len(df_h2_buses_load.index)):\n",
    "            if network.buses.index[buses_count] == df_h2_buses_load.index[h2_buses_count]:\n",
    "                df_h2_buses_load['x'][h2_buses_count] = network.buses['x'][buses_count]\n",
    "                df_h2_buses_load['y'][h2_buses_count] = network.buses['y'][buses_count]\n",
    "\n",
    "    df_h2_buses_load.fillna(0, inplace=True)\n",
    "\n",
    "    for column_count_y, i_count_y in zip(df_ac_loads_h2_loads_dist.columns, range(len(df_h2_demand['location_name']))):\n",
    "        for distance_count_y in range(len(df_ac_loads_h2_loads_dist[column_count_y])):\n",
    "            if df_ac_loads_h2_loads_dist[column_count_y][distance_count_y] == \\\n",
    "                    df_ac_loads_h2_loads_dist[column_count_y].min():\n",
    "                h2_load_value = df_h2_demand[df_h2_demand['location_name'] == column_count_y]['demand_value'][\n",
    "                                    i_count_y] * 1e6  # in MWh\n",
    "                h2_demand_loc = df_ac_loads_h2_loads_dist.index[distance_count_y]\n",
    "                if df_h2_buses_load.at[h2_demand_loc, 'h2_load'] == 0:\n",
    "                    df_h2_buses_load.at[h2_demand_loc, 'h2_load'] = h2_load_value\n",
    "                else:\n",
    "                    df_h2_buses_load.at[h2_demand_loc, 'h2_load'] = df_h2_buses_load.at[h2_demand_loc, 'h2_load'] + \\\n",
    "                                                                    h2_load_value\n",
    "\n",
    "    df_h2_pipelines_dist = pd.DataFrame(index=ac_loads_h2_links, columns=ac_loads_h2_links)\n",
    "\n",
    "    for column_count_z in range(len(list(df_h2_pipelines_dist.index))):\n",
    "        for row_count_z in range(len(list(df_h2_pipelines_dist.columns))):\n",
    "            if df_h2_pipelines_dist.index[column_count_z] != df_h2_pipelines_dist.columns[row_count_z]:\n",
    "                loc_1 = (df_h2_buses_load['y'][column_count_z], df_h2_buses_load['x'][column_count_z])\n",
    "                loc_2 = (df_h2_buses_load['y'][row_count_z], df_h2_buses_load['x'][row_count_z])\n",
    "                dist_loc_1_loc_2 = distance.distance(loc_1, loc_2).km\n",
    "                df_h2_pipelines_dist.at[\n",
    "                    df_h2_pipelines_dist.columns[row_count_z], df_h2_pipelines_dist.index[column_count_z]] = \\\n",
    "                    dist_loc_1_loc_2\n",
    "\n",
    "    h2_pipe_row_list = []\n",
    "    h2_bus_0_list = []\n",
    "    h2_bus_1_list = []\n",
    "    bus_0_list = []\n",
    "    bus_1_list = []\n",
    "    distance_km_list = []\n",
    "\n",
    "    for city_count_p in list(df_h2_pipelines_dist.columns):\n",
    "        for city_count_q in range(len(list(df_h2_pipelines_dist.index))):\n",
    "            if df_h2_pipelines_dist[city_count_p][city_count_q] == \\\n",
    "                    df_h2_pipelines_dist[city_count_p].min():\n",
    "                h2_pipe_row_list.append('{}_{}_h2_pipe'.format(city_count_p, df_h2_pipelines_dist.index[city_count_q]))\n",
    "                h2_bus_0_list.append('{}_H2_Bus'.format(city_count_p))\n",
    "                h2_bus_1_list.append('{}_H2_Bus'.format(df_h2_pipelines_dist.index[city_count_q]))\n",
    "                bus_0_list.append(city_count_p)\n",
    "                bus_1_list.append(df_h2_pipelines_dist.index[city_count_q])\n",
    "                distance_km_list.append(df_h2_pipelines_dist[city_count_p].min())\n",
    "\n",
    "    df_h2_pipelines = pd.DataFrame(index=h2_pipe_row_list)\n",
    "    df_h2_pipelines.index.names = ['H2_pipelines']\n",
    "\n",
    "    df_h2_pipelines['bus_0'] = h2_bus_0_list\n",
    "    df_h2_pipelines['bus_1'] = h2_bus_1_list\n",
    "    df_h2_pipelines['distance_km'] = distance_km_list\n",
    "\n",
    "    all_bus_list = bus_0_list + bus_1_list\n",
    "    connected_list = []\n",
    "\n",
    "    for city_check in ac_loads_h2_links:\n",
    "        if city_check not in all_bus_list:\n",
    "            print('{} not connected to any bus'.format(city_check))\n",
    "        else:\n",
    "            connected_list.append('{} is connected to a H2 bus'.format(city_check))\n",
    "\n",
    "    dict_h2_data = {'h2_links': ac_loads_h2_links,\n",
    "                    'h2_dataframe': df_h2_demand,\n",
    "                    'h2_buses_load': df_h2_buses_load,\n",
    "                    'h2_pipelines': df_h2_pipelines,\n",
    "                    'h2_demand_value_total': round(sum(df_h2_demand['demand_value']) * 1e6, 2)}  # in MWh\n",
    "\n",
    "    return dict_h2_data\n",
    "\n",
    "\n",
    "# choose which year to simulate\n",
    "\n",
    "years = [2030]  # [2030] or [2040] or [2050]\n",
    "\n",
    "# choose which hydrogen demand scenario to simulate\n",
    "\n",
    "h2_scenario_demand = \"TN-H2-G\"  # \"TN-H2-G\" or \"TN-PtG-PtL\" or \"TN-Strom\"\n",
    "\n",
    "freq = \"24\"\n",
    "\n",
    "network = pypsa.Network(get_electrical_data(years))\n",
    "\n",
    "snapshots = pd.DatetimeIndex([])\n",
    "for year in years:\n",
    "    period = pd.date_range(start='{}-01-01 00:00'.format(year),\n",
    "                           freq='{}H'.format(freq),\n",
    "                           periods=8760 / float(freq))\n",
    "    snapshots = snapshots.append(period)\n",
    "\n",
    "network.snapshots = pd.MultiIndex.from_arrays([snapshots.year, snapshots])\n",
    "\n",
    "# network.snapshots\n",
    "\n",
    "'''\n",
    "\n",
    "Nyears value depends on the snapshot resolution freq variable\n",
    "current freq = 24 with Nyears value of = 0.041666666666666664\n",
    "Change of Nyears value will affect the calculation of capital cost using pypsa-eur methodology from \n",
    "the add_electricity script\n",
    "\n",
    "costs[\"capital_cost\"] = ((annuity(costs[\"lifetime\"], costs[\"discount rate\"]) + \n",
    "                            costs[\"FOM\"]/100.) *\n",
    "                            costs[\"investment\"] * Nyears)\n",
    "                            \n",
    "'''\n",
    "# Nyears = network.snapshot_weightings.objective.sum() / 8760\n",
    "# Nyears\n",
    "\n",
    "pmaxpu_generators = network.generators[\n",
    "    (network.generators['carrier'] == 'Solar') |\n",
    "    (network.generators['carrier'] == 'Wind_Offshore') |\n",
    "    (network.generators['carrier'] == 'Wind_Onshore')]\n",
    "\n",
    "network.generators_t.p_max_pu = network.generators_t.p_max_pu.reindex(columns=pmaxpu_generators.index)\n",
    "\n",
    "network.generators_t.p_max_pu.loc[:, pmaxpu_generators.index] = pd.DataFrame(index=network.snapshots,\n",
    "                                                                             columns=pmaxpu_generators.index,\n",
    "                                                                             data=np.random.rand(len(network.snapshots),\n",
    "                                                                                                 len(pmaxpu_generators)))\n",
    "\n",
    "h2_data = get_hydrogen_data(h2_scenario_demand, years)\n",
    "\n",
    "# connect between electrical buses and hydrogen bus via link (as electrolysis unit)\n",
    "\n",
    "df_h2_buses_load = pd.DataFrame(h2_data['h2_buses_load'])\n",
    "df_h2_pipes = pd.DataFrame(h2_data['h2_pipelines'])\n",
    "\n",
    "h2_buses_names = list(df_h2_buses_load.index)\n",
    "\n",
    "h2_buses = [x + '_H2_Bus' for x in h2_buses_names]\n",
    "\n",
    "network.madd('Bus',\n",
    "             h2_buses,\n",
    "             carrier='Hydrogen',\n",
    "             x=list(df_h2_buses_load['x']),\n",
    "             y=list(df_h2_buses_load['y'])\n",
    "             )\n",
    "\n",
    "# electrolysis capital cost and efficiency are based on DEA agency data and pypsa methodology calculations\n",
    "\n",
    "electrolysis_cap_cost = 0\n",
    "electrolysis_efficiency = 0\n",
    "\n",
    "if years == [2030]:\n",
    "    electrolysis_cap_cost = 1886\n",
    "    electrolysis_efficiency = 0.68\n",
    "elif years == [2040]:\n",
    "    electrolysis_cap_cost = 1238.41\n",
    "    electrolysis_efficiency = 0.72\n",
    "elif years == [2050]:\n",
    "    electrolysis_cap_cost = 1012.85\n",
    "    electrolysis_efficiency = 0.75\n",
    "\n",
    "h2_links = [s + '_Electrolysis' for s in h2_buses_names]\n",
    "\n",
    "network.madd('Link',\n",
    "             h2_links,\n",
    "             carrier='Hydrogen',\n",
    "             capital_cost=electrolysis_cap_cost,\n",
    "             p_nom_extendable=True,\n",
    "             bus0=h2_buses_names,\n",
    "             bus1=h2_buses,\n",
    "             efficiency=electrolysis_efficiency)\n",
    "\n",
    "if years == [2030]:\n",
    "    h2_pipe_cap_cost = 982.88\n",
    "elif years == [2040]:\n",
    "    h2_pipe_cap_cost = 903.61\n",
    "elif years == [2050]:\n",
    "    h2_pipe_cap_cost = 825.29\n",
    "\n",
    "network.madd(\"Link\",\n",
    "             df_h2_pipes.index,\n",
    "             bus0=list(df_h2_pipes['bus_0']),\n",
    "             bus1=list(df_h2_pipes['bus_1']),\n",
    "             p_min_pu=-1,\n",
    "             p_nom_extendable=True,\n",
    "             length=list(df_h2_pipes['distance_km']),\n",
    "             capital_cost=h2_pipe_cap_cost * df_h2_pipes['distance_km'],\n",
    "             efficiency=0.98,  # value from pypsa-eur\n",
    "             carrier=\"Hydrogen\")\n",
    "\n",
    "h2_stores = [y + '_H2_Store' for y in h2_buses_names]\n",
    "\n",
    "network.madd('Store',\n",
    "             h2_stores,\n",
    "             bus=h2_buses,\n",
    "             carrier='Hydrogen',\n",
    "             e_nom_extendable=True)\n",
    "\n",
    "h2_loads = [z + '_H2_Load' for z in h2_buses_names]\n",
    "\n",
    "network.madd('Load',\n",
    "             h2_loads,\n",
    "             bus=h2_buses,\n",
    "             p_set=list(df_h2_buses_load['h2_load']),\n",
    "             carrier='Hydrogen',\n",
    "             x=list(df_h2_buses_load['x']),\n",
    "             y=list(df_h2_buses_load['y'])\n",
    "             )\n",
    "\n",
    "ac_loads = network.loads[(network.loads['carrier'] == 'AC')]\n",
    "\n",
    "network.loads_t.p_set = pd.DataFrame(index=network.snapshots,\n",
    "                                     columns=ac_loads.index,\n",
    "                                     data=100 * np.random.rand(len(network.snapshots), len(ac_loads)))\n",
    "\n",
    "\n"
   ]
  },
  {
   "cell_type": "code",
   "execution_count": 8,
   "id": "7ff2d330",
   "metadata": {},
   "outputs": [],
   "source": [
    "#output to csv\n",
    "#network.links_t.p0\n",
    "\n",
    "dfnetworklinks = pd.DataFrame(network.links)\n",
    "os.makedirs('network_links', exist_ok=True)  \n",
    "dfnetworklinks.to_csv('dfnetworklinks.csv') "
   ]
  },
  {
   "cell_type": "code",
   "execution_count": 95,
   "id": "cdb2adb7",
   "metadata": {},
   "outputs": [],
   "source": [
    "# for electrolysis\n",
    "\n",
    "elec_list = []\n",
    "\n",
    "for y in network.links.index:\n",
    "    if '_Electrolysis' in y.split('110kV'):\n",
    "        elec_list.append(y)"
   ]
  },
  {
   "cell_type": "code",
   "execution_count": 96,
   "id": "fbee3c0d",
   "metadata": {},
   "outputs": [],
   "source": [
    "# for h2 pipes\n",
    "\n",
    "h2_pipe_list = []\n",
    "for x in network.links.index:\n",
    "    if '_h2_pipe' in x.split('110kV'):\n",
    "        h2_pipe_list.append(x)\n",
    "        "
   ]
  },
  {
   "cell_type": "code",
   "execution_count": 97,
   "id": "e5a9fe93",
   "metadata": {},
   "outputs": [],
   "source": [
    "elec_list = pd.Series('red', elec_list)"
   ]
  },
  {
   "cell_type": "code",
   "execution_count": 98,
   "id": "9b12f357",
   "metadata": {},
   "outputs": [],
   "source": [
    "h2_pipe_list = pd.Series('green', h2_pipe_list)"
   ]
  },
  {
   "cell_type": "code",
   "execution_count": 99,
   "id": "f9d6e90d",
   "metadata": {},
   "outputs": [],
   "source": [
    "line_colors = pd.Series('white', network.lines.index)"
   ]
  },
  {
   "cell_type": "code",
   "execution_count": 100,
   "id": "12e3ee86",
   "metadata": {},
   "outputs": [],
   "source": [
    "bus_colors = pd.Series(\"blue\", network.buses.index)"
   ]
  },
  {
   "cell_type": "code",
   "execution_count": 104,
   "id": "48b2dfe7",
   "metadata": {},
   "outputs": [
    {
     "data": {
      "text/plain": [
       "Bus\n",
       "KarlsruheWest_220kV                 blue\n",
       "KarlsruheWest_110kV                 blue\n",
       "Daxlanden_110kV                     blue\n",
       "Daxlanden_220kV                     blue\n",
       "Daxlanden_380kV                     blue\n",
       "                                    ... \n",
       "Tuttlingen_110kV_H2_Bus             blue\n",
       "Rappenberghalde_110kV_H2_Bus        blue\n",
       "UlmOst_110kV_H2_Bus                 blue\n",
       "Gurtweil_110kV_H2_Bus               blue\n",
       "Laufen_an_der_Eyach_110kV_H2_Bus    blue\n",
       "Length: 196, dtype: object"
      ]
     },
     "execution_count": 104,
     "metadata": {},
     "output_type": "execute_result"
    }
   ],
   "source": [
    "bus_colors"
   ]
  },
  {
   "cell_type": "code",
   "execution_count": 101,
   "id": "35404383",
   "metadata": {},
   "outputs": [
    {
     "name": "stderr",
     "output_type": "stream",
     "text": [
      "C:\\Users\\HP Elitebook 840\\AppData\\Local\\Temp\\ipykernel_6304\\3232894932.py:1: FutureWarning:\n",
      "\n",
      "The series.append method is deprecated and will be removed from pandas in a future version. Use pandas.concat instead.\n",
      "\n"
     ]
    }
   ],
   "source": [
    "link_colors = elec_list.append(h2_pipe_list)"
   ]
  },
  {
   "cell_type": "code",
   "execution_count": 103,
   "id": "5c9fd2c8",
   "metadata": {},
   "outputs": [
    {
     "data": {
      "text/plain": [
       "Schmiechen_110kV_Electrolysis                           red\n",
       "Kuppenheim_110kV_Electrolysis                           red\n",
       "Biberach_110kV_Electrolysis                             red\n",
       "Markdorf_110kV_Electrolysis                             red\n",
       "Eichstetten_110kV_Electrolysis                          red\n",
       "                                                      ...  \n",
       "Tuttlingen_110kV_Trossingen_110kV_h2_pipe             green\n",
       "Rappenberghalde_110kV_Reutlingen_110kV_h2_pipe        green\n",
       "UlmOst_110kV_Schmiechen_110kV_h2_pipe                 green\n",
       "Gurtweil_110kV_Lorrach_110kV_h2_pipe                  green\n",
       "Laufen_an_der_Eyach_110kV_Trossingen_110kV_h2_pipe    green\n",
       "Length: 76, dtype: object"
      ]
     },
     "execution_count": 103,
     "metadata": {},
     "output_type": "execute_result"
    }
   ],
   "source": [
    "link_colors"
   ]
  },
  {
   "cell_type": "code",
   "execution_count": 102,
   "id": "7aa9787d",
   "metadata": {
    "scrolled": false
   },
   "outputs": [
    {
     "data": {
      "text/plain": [
       "(<matplotlib.collections.PatchCollection at 0x277b77a5f40>,\n",
       " <matplotlib.collections.LineCollection at 0x277b789ec70>,\n",
       " <matplotlib.collections.LineCollection at 0x277b89902e0>,\n",
       " <matplotlib.collections.LineCollection at 0x277b89984f0>)"
      ]
     },
     "execution_count": 102,
     "metadata": {},
     "output_type": "execute_result"
    },
    {
     "data": {
      "image/png": "[encoded data removed]",
      "text/plain": [
       "<Figure size 432x288 with 1 Axes>"
      ]
     },
     "metadata": {
      "needs_background": "light"
     },
     "output_type": "display_data"
    }
   ],
   "source": [
    "network.plot(margin=0.08, bus_sizes = 0.0005, bus_colors = bus_colors, \n",
    "             color_geomap=True, link_colors = link_colors, line_colors = line_colors)"
   ]
  },
  {
   "cell_type": "code",
   "execution_count": null,
   "id": "185706c6",
   "metadata": {},
   "outputs": [],
   "source": [
    "network.lopf(pyomo=False, solver_name='gurobi')"
   ]
  },
  {
   "cell_type": "code",
   "execution_count": null,
   "id": "6a99ac8e",
   "metadata": {},
   "outputs": [],
   "source": [
    "network.generators.p_nom_opt.plot.bar(ylabel='MW', figsize=(15,10))\n",
    "plt.tight_layout()"
   ]
  }
 ],
 "metadata": {
  "kernelspec": {
   "display_name": "Python 3 (ipykernel)",
   "language": "python",
   "name": "python3"
  },
  "language_info": {
   "codemirror_mode": {
    "name": "ipython",
    "version": 3
   },
   "file_extension": ".py",
   "mimetype": "text/x-python",
   "name": "python",
   "nbconvert_exporter": "python",
   "pygments_lexer": "ipython3",
   "version": "3.9.12"
  }
 },
 "nbformat": 4,
 "nbformat_minor": 5
}
