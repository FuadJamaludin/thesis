{
 "cells": [
  {
   "cell_type": "code",
   "execution_count": null,
   "id": "884f17f4",
   "metadata": {},
   "outputs": [],
   "source": [
    "import numpy as np\n",
    "import matplotlib.pyplot as plt\n",
    "import os\n",
    "import cartopy.crs as ccrs\n",
    "import folium\n",
    "from pypsa.linopt import get_var, linexpr, define_constraints\n",
    "from data.getData_func import *\n",
    "\n",
    "%matplotlib inline"
   ]
  },
  {
   "cell_type": "code",
   "execution_count": null,
   "id": "bef113b9",
   "metadata": {},
   "outputs": [],
   "source": [
    "### Case - 2 ###\n",
    "'''\n",
    "user input for:\n",
    "1) years to simulate\n",
    "2) which h2 demand scenario\n",
    "3) freq resolution in 1 year simulation - current: 24 hours / daily\n",
    "4) discount rate for generators capital costs calculation\n",
    "5) which h2 pipeline connection configuration (applicable for Case 3 only)\n",
    "'''\n",
    "\n",
    "years = '2030'  # [2030] or [2040] or [2050]\n",
    "h2_scenario_demand = 'TN-H2-G'  # subset of {'TN-H2-G', 'TN-PtG-PtL', 'TN-Strom'}\n",
    "freq = '4'\n",
    "discount_rate = 0.07\n",
    "\n",
    "'''\n",
    "choose configuration of h2 pipelines connection:\n",
    "1) 'short' - buses which have h2 demand (which is h2 buses), will connect to any h2 buses in the shortest distance\n",
    "2) 'all' - each h2 buses will connect to all other h2 buses regardless of short/long distances\n",
    "3) 'short_fnb_2030' - connects using 'short' config first and then follows roughly similar to proposed h2 pipeline\n",
    "                    connection based on FNB gas network development plan 2020 - 2030\n",
    "'''\n",
    "h2_pipe_config = 'short_fnb_2030'\n",
    "\n",
    "### Case - 2 ###\n",
    "\n",
    "network = get_network(years)\n",
    "\n",
    "snapshots = pd.DatetimeIndex([])\n",
    "period = pd.date_range(start='{}-01-01 00:00'.format(years),\n",
    "                       freq='{}H'.format(freq),\n",
    "                       periods=8760 / float(freq))\n",
    "snapshots = snapshots.append(period)\n",
    "\n",
    "network.snapshots = pd.MultiIndex.from_arrays([snapshots.year, snapshots])\n",
    "\n",
    "Nyears = network.snapshot_weightings.objective.sum() / 8760\n",
    "\n",
    "'''\n",
    "\n",
    "Nyears value depends on the snapshot resolution freq variable\n",
    "Change of Nyears value will affect the calculation of capital cost based on pypsa-eur methodology from \n",
    "the add_electricity script\n",
    "\n",
    "Nyears = network.snapshot_weightings.objective.sum() / 8760\n",
    "Nyears\n",
    "\n",
    "costs[\"capital_cost\"] = ((annuity(costs[\"lifetime\"], costs[\"discount rate\"]) + \n",
    "                            costs[\"FOM\"]/100.) *\n",
    "                            costs[\"investment\"] * Nyears)\n",
    "\n",
    "'''\n",
    "\n",
    "techno_econ_data = get_techno_econ_data(Nyears, years, discount_rate, network)\n",
    "\n",
    "pmaxpu_generators = network.generators[\n",
    "    (network.generators['carrier'] == 'Solar') |\n",
    "    (network.generators['carrier'] == 'Wind_Offshore') |\n",
    "    (network.generators['carrier'] == 'Wind_Onshore')]\n",
    "\n",
    "network.generators_t.p_max_pu = network.generators_t.p_max_pu.reindex(columns=pmaxpu_generators.index)\n",
    "\n",
    "network.generators_t.p_max_pu.loc[:, pmaxpu_generators.index] = pd.DataFrame(index=network.snapshots,\n",
    "                                                                             columns=pmaxpu_generators.index,\n",
    "                                                                             data=np.random.rand(len(network.snapshots),\n",
    "                                                                                                 len(pmaxpu_generators)))\n",
    "\n",
    "h2_data = get_hydrogen_data(h2_scenario_demand, years, h2_pipe_config, network)\n",
    "\n",
    "# connect between electrical buses and hydrogen bus via link (as electrolysis unit)\n",
    "\n",
    "df_h2_buses_load = pd.DataFrame(h2_data['h2_buses_load'])\n",
    "\n",
    "h2_buses_names = list(df_h2_buses_load.index)\n",
    "\n",
    "h2_buses = [x + '_H2_Bus' for x in h2_buses_names]\n",
    "\n",
    "network.madd('Bus',\n",
    "             h2_buses,\n",
    "             carrier='Hydrogen',\n",
    "             x=list(df_h2_buses_load['x']),\n",
    "             y=list(df_h2_buses_load['y'])\n",
    "             )\n",
    "\n",
    "# electrolysis capital cost and efficiency are based on DEA agency data and pypsa methodology calculations\n",
    "\n",
    "electrolysis_cap_cost = techno_econ_data.at['Electrolysis', 'capital_costs']\n",
    "electrolysis_efficiency = techno_econ_data.at['Electrolysis', 'efficiency']\n",
    "\n",
    "h2_links = [s + '_Electrolysis' for s in h2_buses_names]\n",
    "\n",
    "network.madd('Link',\n",
    "             h2_links,\n",
    "             carrier='Hydrogen',\n",
    "             capital_cost=electrolysis_cap_cost,\n",
    "             p_nom_extendable=True,\n",
    "             bus0=h2_buses_names,\n",
    "             bus1=h2_buses,\n",
    "             efficiency=electrolysis_efficiency)\n",
    "\n",
    "h2_stores = [y + '_H2_Store' for y in h2_buses_names]\n",
    "\n",
    "network.madd('Store',\n",
    "             h2_stores,\n",
    "             bus=h2_buses,\n",
    "             carrier='Hydrogen',\n",
    "             e_nom_extendable=True)\n",
    "\n",
    "h2_loads = [z + '_H2_Load' for z in h2_buses_names]\n",
    "\n",
    "network.madd('Load',\n",
    "             h2_loads,\n",
    "             bus=h2_buses,\n",
    "             p_set=list(df_h2_buses_load['h2_load']),\n",
    "             carrier='Hydrogen',\n",
    "             x=list(df_h2_buses_load['x']),\n",
    "             y=list(df_h2_buses_load['y'])\n",
    "             )\n",
    "\n",
    "ac_loads = network.loads[(network.loads['carrier'] == 'AC')]\n",
    "\n",
    "ac_loads_p_set = pd.DataFrame(index=network.snapshots,\n",
    "                              columns=ac_loads.index,\n",
    "                              data=1000 * np.random.rand(len(network.snapshots), len(ac_loads)))\n",
    "\n",
    "df_h2_p_set = pd.DataFrame(index=network.snapshots, columns=h2_loads)\n",
    "\n",
    "for i_load in range(len(df_h2_p_set.columns)):\n",
    "    df_h2_p_set['{}'.format(df_h2_p_set.columns[i_load])] = df_h2_buses_load['h2_load'][i_load] / len(network.snapshots)\n",
    "\n",
    "network.loads_t.p_set = pd.merge(ac_loads_p_set, df_h2_p_set, left_index=True, right_index=True)"
   ]
  },
  {
   "cell_type": "code",
   "execution_count": null,
   "id": "e326f1c5",
   "metadata": {
    "scrolled": false
   },
   "outputs": [],
   "source": [
    "network.lopf(pyomo=False, solver_name='gurobi')"
   ]
  },
  {
   "cell_type": "code",
   "execution_count": null,
   "id": "c266b57c",
   "metadata": {},
   "outputs": [],
   "source": [
    "network.generators.p_nom_opt.plot.bar(ylabel='MW', figsize=(15,10))\n",
    "plt.tight_layout()"
   ]
  },
  {
   "cell_type": "code",
   "execution_count": null,
   "id": "6e158321",
   "metadata": {},
   "outputs": [],
   "source": [
    "all_carr = list(network.carriers.index)"
   ]
  },
  {
   "cell_type": "code",
   "execution_count": null,
   "id": "c432c93e",
   "metadata": {},
   "outputs": [],
   "source": [
    "gen_carr = list(np.unique(list(network.generators.carrier)))\n",
    "gen_carr"
   ]
  },
  {
   "cell_type": "code",
   "execution_count": null,
   "id": "33ce4c02",
   "metadata": {},
   "outputs": [],
   "source": [
    "df_gen_p_nom_opt = pd.DataFrame(index=gen_carr)"
   ]
  },
  {
   "cell_type": "code",
   "execution_count": null,
   "id": "3c46f5a5",
   "metadata": {},
   "outputs": [],
   "source": [
    "gen_p_nom_opt_list = []\n",
    "gen_p_nom_list = []\n",
    "\n",
    "for carr_count_x in range(len(gen_carr)):\n",
    "    p_nom_opt_sum_x = network.generators[network.generators['carrier'] == '{}'.format(gen_carr[carr_count_x])]['p_nom_opt'].sum()\n",
    "    p_nom_sum_x = network.generators[network.generators['carrier'] == '{}'.format(gen_carr[carr_count_x])]['p_nom'].sum()\n",
    "    gen_p_nom_opt_list.append(round(p_nom_opt_sum_x,2))\n",
    "    gen_p_nom_list.append(round(p_nom_sum_x,2))\n",
    "    \n",
    "\n",
    "df_gen_p_nom_opt['capacity p_nom_sum (MW)'] = gen_p_nom_list\n",
    "df_gen_p_nom_opt['p_nom_opt_sum (MW)'] = gen_p_nom_opt_list  \n",
    "\n",
    "df_gen_p_nom_opt"
   ]
  },
  {
   "cell_type": "code",
   "execution_count": null,
   "id": "202a62e5",
   "metadata": {},
   "outputs": [],
   "source": [
    "network.generators.p_nom_opt.sort_values(ascending=False)"
   ]
  },
  {
   "cell_type": "code",
   "execution_count": null,
   "id": "26d1891b",
   "metadata": {},
   "outputs": [],
   "source": [
    "su_unit_carr = list(np.unique(list(network.storage_units.carrier)))\n",
    "su_unit_carr"
   ]
  },
  {
   "cell_type": "code",
   "execution_count": null,
   "id": "c2d1f69c",
   "metadata": {},
   "outputs": [],
   "source": [
    "df_stor_unit_p_nom_opt = pd.DataFrame(index=su_unit_carr)"
   ]
  },
  {
   "cell_type": "code",
   "execution_count": null,
   "id": "d9b7aba9",
   "metadata": {},
   "outputs": [],
   "source": [
    "su_p_nom_opt_list = []\n",
    "su_p_nom_list = []\n",
    "\n",
    "for carr_count_y in range(len(su_unit_carr)):\n",
    "    p_nom_opt_sum_y = network.storage_units[network.storage_units['carrier'] == '{}'.format(su_unit_carr[carr_count_y])]['p_nom_opt'].sum()\n",
    "    p_nom_sum_y = network.storage_units[network.storage_units['carrier'] == '{}'.format(su_unit_carr[carr_count_y])]['p_nom'].sum()\n",
    "    su_p_nom_opt_list.append(round(p_nom_opt_sum_y,2))\n",
    "    su_p_nom_list.append(round(p_nom_sum_y,2))\n",
    "    \n",
    "\n",
    "df_stor_unit_p_nom_opt['capacity p_nom_sum (MW)'] = su_p_nom_list\n",
    "df_stor_unit_p_nom_opt['p_nom_opt_sum (MW)'] = su_p_nom_opt_list  \n",
    "\n",
    "df_stor_unit_p_nom_opt        "
   ]
  },
  {
   "cell_type": "code",
   "execution_count": null,
   "id": "fccf0ee6",
   "metadata": {},
   "outputs": [],
   "source": [
    "network.links.p_nom_opt.plot.bar(ylabel='MW', figsize=(15,10))\n",
    "plt.tight_layout()"
   ]
  },
  {
   "cell_type": "code",
   "execution_count": null,
   "id": "f59afceb",
   "metadata": {},
   "outputs": [],
   "source": [
    "network.links.p_nom_opt.sum()"
   ]
  },
  {
   "cell_type": "code",
   "execution_count": null,
   "id": "c24a52c7",
   "metadata": {},
   "outputs": [],
   "source": [
    "network.loads[network.loads[\"carrier\"] == 'Hydrogen']['p_set'].sort_values(ascending=False)"
   ]
  },
  {
   "cell_type": "code",
   "execution_count": null,
   "id": "2c43b65e",
   "metadata": {},
   "outputs": [],
   "source": [
    "network.links.p_nom_opt.sort_values(ascending=False)"
   ]
  },
  {
   "cell_type": "code",
   "execution_count": null,
   "id": "620cfb80",
   "metadata": {},
   "outputs": [],
   "source": [
    "str_unit_carr = list(np.unique(list(network.stores.carrier)))"
   ]
  },
  {
   "cell_type": "code",
   "execution_count": null,
   "id": "c4be25ff",
   "metadata": {},
   "outputs": [],
   "source": [
    "df_stor_p_nom_opt = pd.DataFrame(index=str_unit_carr)"
   ]
  },
  {
   "cell_type": "code",
   "execution_count": null,
   "id": "458d746e",
   "metadata": {},
   "outputs": [],
   "source": [
    "str_p_nom_opt_list = []\n",
    "str_p_nom_list = []\n",
    "\n",
    "for carr_count_z in range(len(str_unit_carr)):\n",
    "    p_nom_opt_sum_z = network.stores[network.stores['carrier'] == '{}'.format(str_unit_carr[carr_count_z])]['e_nom_opt'].sum()\n",
    "    p_nom_sum_z = network.stores[network.stores['carrier'] == '{}'.format(str_unit_carr[carr_count_z])]['e_nom'].sum()\n",
    "    str_p_nom_opt_list.append(round(p_nom_opt_sum_z,2))\n",
    "    str_p_nom_list.append(round(p_nom_sum_z,2))\n",
    "    \n",
    "\n",
    "df_stor_p_nom_opt['capacity e_nom_sum (MWh)'] = str_p_nom_list\n",
    "df_stor_p_nom_opt['e_nom_opt_sum (MWh)'] = str_p_nom_opt_list  \n",
    "\n",
    "df_stor_p_nom_opt        "
   ]
  }
 ],
 "metadata": {
  "kernelspec": {
   "display_name": "Python 3 (ipykernel)",
   "language": "python",
   "name": "python3"
  },
  "language_info": {
   "codemirror_mode": {
    "name": "ipython",
    "version": 3
   },
   "file_extension": ".py",
   "mimetype": "text/x-python",
   "name": "python",
   "nbconvert_exporter": "python",
   "pygments_lexer": "ipython3",
   "version": "3.9.13"
  }
 },
 "nbformat": 4,
 "nbformat_minor": 5
}
